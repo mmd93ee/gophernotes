{
 "cells": [
  {
   "cell_type": "markdown",
   "metadata": {},
   "source": [
    "## Notebook to perform pre-processing on sentiment analysis data.\n",
    "\n",
    "To load dataset into a folder perform the following;\n",
    "\n",
    "mkdir -p datasets/words\n",
    "wget http://www.cs.jhu.edu/~mdredze/datasets/sentiment/processed_acl.tar.gz -O datasets/words-temp.tar.gz\n",
    "tar xzfv datasets/words-temp.tar.gz -C datasets/words\n",
    "rm datasets/words-temp.tar.gz\n",
    "\n"
   ]
  },
  {
   "cell_type": "code",
   "execution_count": 22,
   "metadata": {},
   "outputs": [],
   "source": [
    "import (\n",
    "    \"io/ioutil\"\n",
    "    \"fmt\"\n",
    "    \"strings\"\n",
    "    \"strconv\"\n",
    "    \"github.com/kniren/gota/dataframe\"\n",
    ")\n",
    "\n",
    "const debug = false // set to true to run extra stuff\n",
    "\n",
    "// Create a struct to store the sentiment dataset\n",
    "type Pair struct {\n",
    "    Phrase string\n",
    "    Frequency int\n",
    "}"
   ]
  },
  {
   "cell_type": "code",
   "execution_count": 2,
   "metadata": {},
   "outputs": [],
   "source": [
    "// Load the dataset into a bite slice.\n",
    "const kitchenReviews = \"../datasets/ML/sentiment/kitchen\"\n",
    "\n",
    "positives, err := ioutil.ReadFile(kitchenReviews + \"/positive.review\")\n",
    "negatives, err2 := ioutil.ReadFile(kitchenReviews + \"/negative.review\")\n",
    "\n",
    "if err != nil || err2 != nil {\n",
    "    fmt.Println(\"Error(s) in loading datafile:\", err, err2)\n",
    "}"
   ]
  },
  {
   "cell_type": "markdown",
   "metadata": {},
   "source": [
    "Convert the bite slice into a string and then parse with strings.Fields() to convert into slices of pairs.  This creates slices that consist of a single string of text such as 'i_can:2'"
   ]
  },
  {
   "cell_type": "code",
   "execution_count": 3,
   "metadata": {},
   "outputs": [],
   "source": [
    "pairsPositive := strings.Fields(string(positives))\n",
    "pairsNegative := strings.Fields(string(negatives))"
   ]
  },
  {
   "cell_type": "markdown",
   "metadata": {},
   "source": [
    "Function to take a string and then do the following;\n",
    "\n",
    "Split the string into 2 elements, seperated by a colon.\n",
    "Place first element into a new Pair struct as Phrase.\n",
    "Convert second element to integer with strconv and put into same struct\n",
    "\n",
    "Return a slice of Pair and a seperate lookup table as a map of phrases and frequency."
   ]
  },
  {
   "cell_type": "code",
   "execution_count": 4,
   "metadata": {},
   "outputs": [],
   "source": [
    "func pairsAndFilters(splitPairs []string) ([]Pair, map[string]bool) {\n",
    "    var (\n",
    "    pairs []Pair\n",
    "    m map[string]bool\n",
    "    )\n",
    "    \n",
    "    m = make(map[string]bool)\n",
    "    for _, pair := range splitPairs {\n",
    "        p := strings.Split(pair, \":\")\n",
    "        phrase := p[0]\n",
    "        m[phrase] = true\n",
    "        if len(p) < 2 {\n",
    "            continue\n",
    "        }\n",
    "        \n",
    "        freq, err := strconv.Atoi(p[1])\n",
    "        if err != nil { \n",
    "            continue\n",
    "        }\n",
    "        \n",
    "        pairs = append(pairs, Pair{\n",
    "            Phrase: phrase,\n",
    "            Frequency: freq,\n",
    "        })\n",
    "    }\n",
    "    \n",
    "    return pairs, m\n",
    "    \n",
    "}\n"
   ]
  },
  {
   "cell_type": "markdown",
   "metadata": {},
   "source": [
    "When phrases exist in both positive and negative reviews they are less likely to indicate sentiment, the map is used to remove items from opposite pairs.  i.e. if the Map holds a phrase for positive sentiment then we need to delete those items from the negative Pair objects.  Function takes the sentiment Pair slices and the index from the opposite sentiment and then removes Pair objects that exist in the alternative data set..."
   ]
  },
  {
   "cell_type": "code",
   "execution_count": 5,
   "metadata": {},
   "outputs": [],
   "source": [
    "func exclude(pairs []Pair, exclusions map[string]bool) []Pair{\n",
    "    var returnPairs []Pair\n",
    "    for i, p := range pairs{\n",
    "        if !exclusions[p.Phrase]{\n",
    "            returnPairs = append(returnPairs, p)\n",
    "        }\n",
    "    }\n",
    "    \n",
    "    return returnPairs\n",
    "}"
   ]
  },
  {
   "cell_type": "markdown",
   "metadata": {},
   "source": [
    "Run the dataset through the two functions;\n",
    "* Create the slice of Pairs and the lookup to remove the word pairs from the opposite sentiment\n",
    "* Parse the slice of Pairs through the opposite lookup model"
   ]
  },
  {
   "cell_type": "code",
   "execution_count": 6,
   "metadata": {},
   "outputs": [],
   "source": [
    "parsedPositives, posPhrases := pairsAndFilters(pairsPositive)\n",
    "parsedNegatives, negPhrases := pairsAndFilters(pairsNegative)\n",
    "parsedPositives = exclude(parsedPositives, negPhrases)\n",
    "parsedNegatives = exclude(parsedNegatives, posPhrases)"
   ]
  },
  {
   "cell_type": "markdown",
   "metadata": {},
   "source": [
    "Print out the parsedPositives slice."
   ]
  },
  {
   "cell_type": "code",
   "execution_count": 23,
   "metadata": {
    "scrolled": false
   },
   "outputs": [],
   "source": [
    "// Print out the 10 on the top of the slice\n",
    "if debug {\n",
    "    i := 0\n",
    "    j := 0\n",
    "\n",
    "    for _, pair := range parsedPositives {\n",
    "        if pair.Frequency > 2 && i <10 {\n",
    "             fmt.Printf(\"Positive Phrase: %s Frequency: %d \\n\", pair.Phrase, pair.Frequency)\n",
    "            i += 1\n",
    "        }\n",
    "    }\n",
    "\n",
    "    // Print out the Negatives\n",
    "    for _, pair := range parsedNegatives {\n",
    "        if pair.Frequency > 2 && j<10 {\n",
    "            fmt.Printf(\"Negative Phrase: %s Frequency: %d \\n\", pair.Phrase, pair.Frequency)\n",
    "            j += 1\n",
    "        }\n",
    "    }\n",
    "}\n"
   ]
  },
  {
   "cell_type": "code",
   "execution_count": 10,
   "metadata": {},
   "outputs": [],
   "source": [
    "// Load the Struct objects into Dataframes\n",
    "dfPos := dataframe.LoadStructs(parsedPositives)\n",
    "dfNeg := dataframe.LoadStructs(parsedNegatives)\n",
    "\n",
    "// Sort the dataframes\n",
    "dfPos = dfPos.Arrange(dataframe.RevSort(\"Frequency\"))\n",
    "dfNeg = dfNeg.Arrange(dataframe.RevSort(\"Frequency\"))"
   ]
  },
  {
   "cell_type": "markdown",
   "metadata": {},
   "source": [
    "Display top 10 of the dataframes."
   ]
  },
  {
   "cell_type": "code",
   "execution_count": 19,
   "metadata": {},
   "outputs": [
    {
     "name": "stdout",
     "output_type": "stream",
     "text": [
      "\n",
      " Positives: [46383x2] DataFrame\n",
      "\n",
      "    Phrase       Frequency\n",
      " 0: tic-tac-toe  10       \n",
      " 1: wusthoff     7        \n",
      " 2: emperor      7        \n",
      " 3: shot_glasses 6        \n",
      " 4: pulp         6        \n",
      " 5: games        6        \n",
      " 6: sentry       6        \n",
      " 7: gravel       6        \n",
      " 8: the_emperor  5        \n",
      " 9: aebleskivers 5        \n",
      "    ...          ...      \n",
      "    <string>     <int>    \n",
      " \n",
      "\n",
      " Negatives: [45760x2] DataFrame\n",
      "\n",
      "    Phrase          Frequency\n",
      " 0: seeds           9        \n",
      " 1: perculator      7        \n",
      " 2: probes          7        \n",
      " 3: cork            7        \n",
      " 4: coffee_tank     5        \n",
      " 5: brookstone      5        \n",
      " 6: convection_oven 5        \n",
      " 7: black_goo       5        \n",
      " 8: waring_pro      5        \n",
      " 9: packs           5        \n",
      "    ...             ...      \n",
      "    <string>        <int>    \n"
     ]
    },
    {
     "data": {
      "text/plain": [
       "811 <nil>"
      ]
     },
     "execution_count": 19,
     "metadata": {},
     "output_type": "execute_result"
    }
   ],
   "source": [
    "fmt.Printf(\"\\n Positives: %s \\n\\n Negatives: %s\", dfPos, dfNeg)"
   ]
  },
  {
   "cell_type": "code",
   "execution_count": null,
   "metadata": {},
   "outputs": [],
   "source": []
  }
 ],
 "metadata": {
  "kernelspec": {
   "display_name": "Go",
   "language": "go",
   "name": "gophernotes"
  },
  "language_info": {
   "codemirror_mode": "",
   "file_extension": ".go",
   "mimetype": "",
   "name": "go",
   "nbconvert_exporter": "",
   "pygments_lexer": "",
   "version": "go1.11.4"
  }
 },
 "nbformat": 4,
 "nbformat_minor": 2
}
